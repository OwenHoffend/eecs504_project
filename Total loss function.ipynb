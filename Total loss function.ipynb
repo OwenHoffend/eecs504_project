{
 "cells": [
  {
   "cell_type": "code",
   "execution_count": 4,
   "metadata": {},
   "outputs": [],
   "source": [
    "import torch\n",
    "import torchvision\n",
    "import torch.nn as nn\n",
    "import torch.nn.functional as F\n",
    "from torchvision import transforms\n",
    "import matplotlib.pyplot as plt\n",
    "import numpy as np\n",
    "import cv2\n",
    "from PIL import Image\n",
    "\n",
    "# RPN Loss\n",
    "# pred_anchor_locs :output from the regression layer, ([1,36(=4*n_anchor),H_feature,W_feature])\n",
    "# pred_cls_scores :output from the classfication layer, ([1,18(=2*n_anchor),H_feature,W_feature])\n",
    "# anchor_labels\n",
    "# anchor_locations\n",
    "# n_anchor = 9\n",
    "def rpn_loss(pred_anchor_locs, pre_cls_scores, anchor_locations, anchor_labels):\n",
    "    \n",
    "    #Convert locations: [1,36(=4*n_anchor),H_feature,W_feature] => [1, n_anchor*H_feature*W_feature, 4] (dy, dx, dh, dw)\n",
    "    pred_anchor_locs = pred_anchor_locs.permute(0, 2, 3, 1).contiguous().view(1, -1, 4) #([1,n_anchor*H_feature*W_feature, 4])\n",
    "    #Convert classifications: [1,18(=2*n_anchor),H_feature,W_feature] => [1, n_anchor*H_feature*W_feature, 2]  (1, 0)\n",
    "    pred_cls_scores = pre_cls_scores.permute(0, 2, 3, 1).contiguous().view(1, -1 , 2) #([1,n_anchor*H_feature*W_feature, 2])\n",
    "    rpn_loc = pred_anchor_locs[0] #(n_anchor*H_feature*W_feature, 4)\n",
    "    rpn_score = pre_cls_scores[0] #(n_anchor*H_feature*W_feature, 2)\n",
    "    \n",
    "    gt_rpn_loc = torch.from_numpy(anchor_locations)\n",
    "    gt_rpn_score = torch.from_numpy(anchor_labels)\n",
    "    \n",
    "    #Classification loss\n",
    "    rpn_cls_loss = F.cross_entropy(rpn_score, gt_rpn_score_long()., ignore_index = -1)\n",
    "    \n",
    "    #Regression loss\n",
    "    pos = gt_rpn_score > 0\n",
    "    mask = pos.unsqueeze(1).expand_as(rpn_loc) #? [n_anchor*H_feature*W_feature, 4]\n",
    "    mask_loc_preds = rpn_loc[mask].view(-1, 4) # ? [4, 4]\n",
    "    mask_loc_targets = gt_rpn_loc[mask].view(-1, 4) # ? [4, 4]\n",
    "    \n",
    "    x = torch.abs(mask_loc_targets - mask_loc_preds)\n",
    "    rpn_loc_loss = ((x<1).float() * 0.5 * x**2)+((x >= 1).float() * (x-0.5))\n",
    "    \n",
    "    rpn_lambda = 10\n",
    "    N_reg = (gt_rpn_score > 0).float().sum()\n",
    "    rpn_loc_loss = rpn_cls_loss.sum() / N_reg\n",
    "    total_loss = rpn_cls_loss + (rpn_lambda * rpn_loc_loss)\n",
    "    \n",
    "    return total_loss"
   ]
  },
  {
   "cell_type": "code",
   "execution_count": null,
   "metadata": {},
   "outputs": [],
   "source": [
    "# Fast RCNN loss\n",
    "\n",
    "def roi_loss(gt_roi_locs, gt_roi_labels, roi_cls_score, roi_cls_loc)\n",
    "    \n",
    "    gt_roi_loc = torch.from_numpy(gt_roi_locs)\n",
    "    gt_roi_label = torch.from_numpy(np.float32(gt_roi_labels)).long()\n",
    "    \n",
    "    #Classification loss\n",
    "    roi_cls_loss = F.cross_entropy(roi_cls_score, gt_roi_label, ignore_index=-1)\n",
    "    \n",
    "    #Regression loss\n",
    "    n_sample = roi_cls_loc.shape[0] \n",
    "    roi_loc = roi_cls_loc.view(n_sample, -1, 4) #([128,2,4])\n",
    "    roi_loc = roi_loc[torch.arange(0, n_sample).long(), gt_roi_label] #([128,4])\n",
    "    pos = gt_roi_label > 0\n",
    "    mask = pos.unsqueeze(1).expand_as(roi_loc) #([128,4])\n",
    "    mask_loc_preds = roi_loc[mask].view(-1,4)\n",
    "    mask_loc_targets = gt_roi_loc[mask].view(-1,4)\n",
    "    x = torch.abs(mask_loc_targets - mask_loc_pred)\n",
    "    roi_loc_loss = ((x<1).float()*0.5*x**2) + ((x>=1).float()*(x-0.5))\n",
    "    \n",
    "    roi_lambda = 10\n",
    "    \n",
    "    total_loss = roi_cls_loss + (roi_lambda * roi_loc_loss)\n",
    "    \n",
    "    return total_loss"
   ]
  },
  {
   "cell_type": "code",
   "execution_count": null,
   "metadata": {},
   "outputs": [],
   "source": [
    "# Total training loss\n",
    "T_loss = rpn_loss(pred_anchor_locs, pre_cls_scores, anchor_locations, anchor_labels) + roi_loss(gt_roi_locs, gt_roi_labels, roi_cls_score, roi_cls_loc)"
   ]
  }
 ],
 "metadata": {
  "kernelspec": {
   "display_name": "Python 3",
   "language": "python",
   "name": "python3"
  },
  "language_info": {
   "codemirror_mode": {
    "name": "ipython",
    "version": 3
   },
   "file_extension": ".py",
   "mimetype": "text/x-python",
   "name": "python",
   "nbconvert_exporter": "python",
   "pygments_lexer": "ipython3",
   "version": "3.8.3"
  }
 },
 "nbformat": 4,
 "nbformat_minor": 4
}
